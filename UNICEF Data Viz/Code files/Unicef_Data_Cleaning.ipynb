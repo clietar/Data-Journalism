{
 "nbformat": 4,
 "nbformat_minor": 2,
 "metadata": {
  "language_info": {
   "name": "python",
   "codemirror_mode": {
    "name": "ipython",
    "version": 3
   },
   "version": "3.8.5-final"
  },
  "orig_nbformat": 2,
  "file_extension": ".py",
  "mimetype": "text/x-python",
  "name": "python",
  "npconvert_exporter": "python",
  "pygments_lexer": "ipython3",
  "version": 3,
  "kernelspec": {
   "name": "python3",
   "display_name": "Python 3"
  }
 },
 "cells": [
  {
   "cell_type": "markdown",
   "metadata": {},
   "source": [
    "# UNICEF DATAVIZ CHALLENGE - DATA PREPARATION"
   ]
  },
  {
   "cell_type": "markdown",
   "metadata": {},
   "source": [
    "Loading datasets"
   ]
  },
  {
   "cell_type": "code",
   "execution_count": 2,
   "metadata": {},
   "outputs": [],
   "source": [
    "import pandas as pd\n",
    "\n",
    "\n",
    "summary = pd.read_excel(\"data/summary_survey_ covid_response.xlsx\", sheet_name=\"Long\")\n",
    "detailed = pd.read_excel(\"data/detail_survey_covid_response.xlsx\", sheet_name=\"Data\")\n",
    "atttendance_pre_primary = pd.read_excel(\"data/attendance_nov2019.xlsx\", sheet_name=\"ANAR one year before\")\n",
    "atttendance_primary = pd.read_excel(\"data/attendance_nov2019.xlsx\", sheet_name=\"Primary ANAR\")\n",
    "atttendance_lower_secondary = pd.read_excel(\"data/attendance_nov2019.xlsx\", sheet_name=\"Lower Secondary ANAR\")\n",
    "atttendance_upper_secondary = pd.read_excel(\"data/attendance_nov2019.xlsx\", sheet_name=\"Upper Secondary ANAR\")\n",
    "completion_primary   = pd.read_excel(\"data/completion_nov2019.xlsx\", sheet_name=\"primary\")\n",
    "completion_lower_secondary   = pd.read_excel(\"data/completion_nov2019.xlsx\", sheet_name=\"lower secondary\")\n",
    "completion_upper_secondary  = pd.read_excel(\"data/completion_nov2019.xlsx\", sheet_name=\"upper secondary\")"
   ]
  },
  {
   "cell_type": "markdown",
   "metadata": {},
   "source": [
    "Data Cleaning on summary responses from governement covid-19 responses survey"
   ]
  },
  {
   "cell_type": "code",
   "execution_count": null,
   "metadata": {},
   "outputs": [],
   "source": [
    "# only keep education subject \n",
    "summary = summary[summary[\"pageTitle\"] == \"Educational socio-economic impacts and national response\"]\n",
    "\n",
    "#only keep the question and answers when  asking for the sucess level in implementing : remote learning, paper based booklets, teacher support, monitoring student learning system\n",
    "\n",
    "summary = summary[(summary[\"parentQuestion\"] == \"Please indicate the level of success the country experienced in the following aspects of implementing remote learning (such as radio, TV, online platforms, paper-based exercises etc.):\") & ((summary[\"question\"] == \"Access to remote learning\") | (summary[\"question\"] ==  \"Tracking or monitoring of student learning\") | (summary[\"question\"] ==  \"Coverage of curriculum (subjects and content planned)\") | (summary[\"question\"] ==  \"Teacher support (pedagogical, psychosocial, financial, etc.)\"))]"
   ]
  },
  {
   "cell_type": "code",
   "execution_count": null,
   "metadata": {},
   "outputs": [],
   "source": [
    "# keep only useful  columns for the vizualization \n",
    "\n",
    "summary = summary[['category', 'subCategory', 'ISO Code', 'question', 'value']]"
   ]
  },
  {
   "cell_type": "code",
   "execution_count": null,
   "metadata": {},
   "outputs": [],
   "source": [
    "# get one single record by country regarding each level of sucess studied for the analysis\n",
    "manip  = summary[['ISO Code', 'question', 'value']]\n",
    "manip =  manip.pivot(index='ISO Code', columns='question').add_prefix('value_')\n",
    "manip.columns = manip.columns.droplevel(0)\n",
    "manip = manip.reset_index()\n",
    "summary_cleaned = pd.merge(manip, summary[['category', 'subCategory', 'ISO Code']], on='ISO Code', how='inner') # re fetching category and subcategory with inner join\n",
    "summary_cleaned = summary_cleaned.drop_duplicates() #removing duplicated row created by the merge\n",
    "\n"
   ]
  },
  {
   "cell_type": "code",
   "execution_count": null,
   "metadata": {},
   "outputs": [],
   "source": [
    "#pushing the dataframe object into a csv file for tableau analysis\n",
    "summary_cleaned.to_csv(\"summary_Covid19_educational_survey_cleaned.csv\", sep=\";\")\n"
   ]
  },
  {
   "cell_type": "markdown",
   "metadata": {},
   "source": [
    "Data Cleaning on detailed responses from governement covid-19 responses survey"
   ]
  },
  {
   "cell_type": "code",
   "execution_count": null,
   "metadata": {},
   "outputs": [],
   "source": [
    "# questions selected for the analysis were manually selecting and are the following : "
   ]
  },
  {
   "cell_type": "code",
   "execution_count": null,
   "metadata": {},
   "outputs": [],
   "source": [
    "# working on Q13 : distance learning plateforms effectiveness \n",
    "Q13  = detailed[['ISO3','Q13Onlineplatforms_Effectiven', 'Q13Television_Effectiveness', 'Q13Radio_Effectiveness', 'Q13Take_homepackages_Effectiv']]\n",
    "Q13 = Q13.fillna('null')\n",
    "Q13['Media'] = \"null\"\n",
    "\n",
    "for i in range(0,len(Q13)):\n",
    "    Q13.at[i,'Media'] = ['Online learning','Television','Radio','Take Home Packages']\n",
    "\n",
    "Q13['Q13Answers'] = Q13['Q13Onlineplatforms_Effectiven']+\",\"+Q13['Q13Television_Effectiveness']+\",\"+Q13['Q13Radio_Effectiveness']+\",\"+Q13['Q13Take_homepackages_Effectiv']\n",
    "\n",
    "Q13['Effectiveness'] = \"null\"\n",
    "for i in range(0,len(Q13)):\n",
    "    Q13.at[i,'Effectiveness'] = Q13['Q13Answers'][i].split(\",\")\n",
    "\n",
    "Q13 = Q13[['ISO3', 'Media','Effectiveness']]\n",
    "#exploding one single record into multiple records for a country : transform Q13Categories and Q13Answers into categorical variables \n",
    "import numpy as np\n",
    "def explode(df, lst_cols, fill_value='', preserve_index=False):\n",
    "    # make sure `lst_cols` is list-alike\n",
    "    if (lst_cols is not None\n",
    "        and len(lst_cols) > 0\n",
    "        and not isinstance(lst_cols, (list, tuple, np.ndarray, pd.Series))):\n",
    "        lst_cols = [lst_cols]\n",
    "    # all columns except `lst_cols`\n",
    "    idx_cols = df.columns.difference(lst_cols)\n",
    "    # calculate lengths of lists\n",
    "    lens = df[lst_cols[0]].str.len()\n",
    "    # preserve original index values    \n",
    "    idx = np.repeat(df.index.values, lens)\n",
    "    # create \"exploded\" DF\n",
    "    res = (pd.DataFrame({\n",
    "                col:np.repeat(df[col].values, lens)\n",
    "                for col in idx_cols},\n",
    "                index=idx)\n",
    "             .assign(**{col:np.concatenate(df.loc[lens>0, col].values)\n",
    "                            for col in lst_cols}))\n",
    "    # append those rows that have empty lists\n",
    "    if (lens == 0).any():\n",
    "        # at least one list in cells is empty\n",
    "        res = (res.append(df.loc[lens==0, idx_cols], sort=False)\n",
    "                  .fillna(fill_value))\n",
    "    # revert the original index order\n",
    "    res = res.sort_index()\n",
    "    # reset index if requested\n",
    "    if not preserve_index:        \n",
    "        res = res.reset_index(drop=True)\n",
    "    return res\n",
    "\n",
    "\n",
    "Q13 =  explode(Q13, ['Media','  Effectiveness'], fill_value='')\n",
    "Q13.to_csv(\"Distance_Learning_media_effectiveness.csv\", sep =\";\")  # in excel we also replace \"We do not have such plateform by Media not available for vizualization purpose\"\n",
    "\n"
   ]
  },
  {
   "cell_type": "code",
   "execution_count": null,
   "metadata": {},
   "outputs": [],
   "source": [
    "# working on Q16: measures took to improve access to distance  learning \n",
    "Q16 = detailed[['ISO3','Q16Offernegotiateaccesstothe', 'Q16landline', 'Q16mobilephones', 'Q16Subsidizedfreedevicesfora','Q16Nomeasurestaken', 'Q16Donotknow']]\n",
    "Q16 = Q16.fillna('null')\n",
    "Q16['Measures'] = \"null\"\n",
    "\n",
    "for i in range(0,len(Q16)):\n",
    "    Q16.at[i,'Measures'] = ['Offer/negotiate access to the internet','Access via Landlines','Access via Mobile Phones','Subsidized/free devices for access', 'No measures taken', 'Do not know']\n",
    "\n",
    "Q16['Q16Answers'] = Q16['Q16Offernegotiateaccesstothe']+\",\"+Q16['Q16landline']+\",\"+Q16['Q16mobilephones']+\",\"+Q16['Q16Subsidizedfreedevicesfora']+\",\"+Q16['Q16Nomeasurestaken']+\",\"+Q16['Q16Donotknow']\n",
    "\n",
    "Q16['Answers'] = \"null\"\n",
    "for i in range(0,len(Q16)):\n",
    "    Q16.at[i,'Answers'] = Q16['Q16Answers'][i].split(\",\")\n",
    "\n",
    "Q16 = Q16[['ISO3', 'Measures','Answers']]\n",
    "#exploding one single record into multiple records for a country regarding its answers to Q16\n",
    "Q16 =  explode(Q16, ['Measures','Answers'], fill_value='')\n",
    "Q16.to_csv(\"Measures_access_distance_learning.csv\", sep =\";\")  "
   ]
  },
  {
   "cell_type": "code",
   "execution_count": 26,
   "metadata": {},
   "outputs": [],
   "source": [
    "#working on Q17: insigths by country on online platform used for remote learning \n",
    "import re\n",
    "\n",
    "Q17 = detailed[['ISO3','Q17_2PlatformcreatedbytheMin','Q17_2Commercialplatformnotfor','Q17_2CommercialforfreeBlackb','Q17_2OpensourceplatformMoodl','Q17_2Donotknow']]\n",
    "Q17 = Q17.fillna('null')\n",
    "\n",
    "Q17[\"Q17_2PlatformcreatedbytheMin\"] = Q17[\"Q17_2PlatformcreatedbytheMin\"].replace([\"Platform created by the Ministry of Education or education authorities (If yes, answer Question 17.2.1-17.2.3)\"], \"Platform created by education authorities\")\n",
    "Q17[\"Q17_2Commercialplatformnotfor\"] = Q17[\"Q17_2Commercialplatformnotfor\"].replace([\"Commercial platform not for free (Microsoft Teams, etc.) (If yes, answer Question 17.2.4)\"], \"Paying Commercial platforms (Microsoft Teams, ect.)\")\n",
    "\n",
    "\n",
    "Q17['PlatformsUsed'] = Q17['Q17_2PlatformcreatedbytheMin']+\";\"+Q17['Q17_2Commercialplatformnotfor']+\";\"+Q17['Q17_2CommercialforfreeBlackb']+\";\"+Q17['Q17_2OpensourceplatformMoodl']+\";\"+Q17['Q17_2Donotknow']\n",
    "\n",
    "Q17['PlatformsUsed'] =Q17['PlatformsUsed'].apply(lambda x: re.sub(\"null\", \"\", string=x))\n",
    "Q17['PlatformsUsed'] =Q17['PlatformsUsed'].apply(lambda x: re.sub(\";;;;\", \"\", string=x))\n",
    "Q17['PlatformsUsed'] =Q17['PlatformsUsed'].apply(lambda x: re.sub(\"^;;\", \"\", string=x))\n",
    "Q17['PlatformsUsed'] =Q17['PlatformsUsed'].apply(lambda x: re.sub(\"^;\", \"\", string=x))\n",
    "Q17['PlatformsUsed'] =Q17['PlatformsUsed'].apply(lambda x: re.sub(\";;$\", \"\", string=x))\n",
    "Q17['PlatformsUsed'] =Q17['PlatformsUsed'].apply(lambda x: re.sub(\";$\", \"\", string=x))\n",
    "Q17['PlatformsUsed'] =Q17['PlatformsUsed'].apply(lambda x: re.sub(\";;;\", \";\", string=x))\n",
    "Q17['PlatformsUsed'] =Q17['PlatformsUsed'].apply(lambda x: re.sub(\";;\", \";\", string=x))\n",
    "Q17['PlatformsUsed'] =Q17['PlatformsUsed'].apply(lambda x: re.sub(\";\", \"; \", string=x))\n",
    "\n",
    "Q17 = Q17[[\"ISO3\", \"PlatformsUsed\"]]\n",
    "Q17[\"PlatformsUsed\"] = Q17[\"PlatformsUsed\"].replace(['', \"Do not know\"], \"NO INFORMATION\")\n",
    "Q17.to_csv(\"Online_Platforms_used.csv\", sep = \";\", index= False)\n"
   ]
  },
  {
   "cell_type": "code",
   "execution_count": null,
   "metadata": {},
   "outputs": [],
   "source": [
    "# working ON Q15 : If remote learning is considered as sufficient as traditional learning \n",
    "#simply extracting the columns and the ISO code associated : no cleaning needed \n",
    "Q15 = detailed[['ISO3', 'Q15']]\n",
    "Q15 = Q15.rename(columns = {'Q15': \"Remote_Learning_vs_Traditional Learning\"})\n",
    "Q15 = Q15.fillna('Do not know')\n",
    "Q15.to_csv('Remote_Learning_vs_Traditional_Learning.csv', sep = \";\", index=False)\n"
   ]
  },
  {
   "cell_type": "code",
   "execution_count": null,
   "metadata": {},
   "outputs": [],
   "source": [
    "#working on Q12 and Q2 : estimate number of days of schools skipped by class levels (whether school year was over or not)\n",
    "Q2_Q12 = detailed[['ISO3', 'Q2Primaryeducation', 'Q2Lower_secondaryeducation', 'Q2Upper_secondaryeducation', 'Q12_1primaryeducation', 'Q12_1lower_secondaryeducation', 'Q12_1upper_secondaryeducation']]\n",
    "Q2_Q12 = Q2_Q12.fillna(\"null\") # filling NA value with null (countries who did not answers )\n",
    "#replacing the 9999, 999, 0 value by null (answers when countries did not know nb of days for a school year) and converting the columns into string type \n",
    "for c in ['Q2Primaryeducation', 'Q2Lower_secondaryeducation', 'Q2Upper_secondaryeducation']:\n",
    "    Q2_Q12[c] = Q2_Q12[c].replace([9999, 999, 0], \"null\")\n",
    "    Q2_Q12[c] = Q2_Q12[c].astype('str')\n",
    "\n",
    "for c in ['Q12_1primaryeducation', 'Q12_1lower_secondaryeducation', 'Q12_1upper_secondaryeducation']:\n",
    "    Q2_Q12[c] = Q2_Q12[c].astype('str')\n",
    "\n",
    "\n",
    "Q2_Q12['EducationLevel'] = \"null\"\n",
    "\n",
    "for i in range(0,len(Q2_Q12)):\n",
    "    Q2_Q12.at[i,'EducationLevel'] = ['Primary Education', 'Lower Secondary Education', 'Upper Secondary Education']\n",
    "\n",
    "Q2_Q12['Q2Answers'] = Q2_Q12['Q2Primaryeducation']+\",\"+Q2_Q12['Q2Lower_secondaryeducation']+\",\"+Q2_Q12['Q2Upper_secondaryeducation']\n",
    "\n",
    "Q2_Q12['Q12Answers'] = Q2_Q12['Q12_1primaryeducation']+\",\"+Q2_Q12['Q12_1lower_secondaryeducation']+\",\"+Q2_Q12['Q12_1upper_secondaryeducation']\n",
    "\n",
    "print(Q2_Q12['Q2Answers'])\n",
    "Q2_Q12['SchoolYearDays'] = \"null\"\n",
    "Q2_Q12['SchoolDaysSkipped'] = \"null\"\n",
    "\n",
    "for i in range(0,len(Q2_Q12)):\n",
    "    Q2_Q12.at[i,'SchoolYearDays'] = Q2_Q12['Q2Answers'][i].split(\",\")\n",
    "    Q2_Q12.at[i,'SchoolDaysSkipped'] = Q2_Q12['Q12Answers'][i].split(\",\")\n",
    "\n",
    "Q2_Q12 = Q2_Q12[['ISO3', 'EducationLevel','SchoolYearDays', 'SchoolDaysSkipped']]\n",
    "#exploding one single record into multiple records for a country regarding its answers to Q2 and Q12 \n",
    "Q2_Q12 =  explode(Q2_Q12, ['EducationLevel','SchoolYearDays', 'SchoolDaysSkipped'], fill_value='')\n",
    "#reconverting Nb of School days in a year and Nb of days skippes  into float columns \n",
    "#for c in  ['SchoolYearDays', 'SchoolDaysSkipped']:\n",
    "    #Q2_Q12[c] = Q2_Q12[c].astype('float')\n",
    "    \n",
    "Q2_Q12.to_csv(\"Schools_days_skipped_v2.csv\", sep =\";\", index=False)  \n",
    "\n"
   ]
  },
  {
   "cell_type": "code",
   "execution_count": null,
   "metadata": {},
   "outputs": [],
   "source": [
    "Q2_Q12.dtypes"
   ]
  },
  {
   "cell_type": "code",
   "execution_count": 42,
   "metadata": {},
   "outputs": [],
   "source": [
    "# working on Q20 : measures to support teachers during the crisis\n",
    "\n",
    "Q20 = detailed[['ISO3','Q20OfferedspecialtrainingIf', 'Q20Providedwithinstructionon', 'Q20Providedwithprofessionalp', 'Q20Providedwithteachingconten','Q20ProvidedwithICTtoolsandf', 'Q20Noadditionalsupportwasoff', 'Q20Donotknow']]\n",
    "Q20 = Q20.fillna('null')\n",
    "\n",
    "for c in ['Q20OfferedspecialtrainingIf', 'Q20Providedwithinstructionon', 'Q20Providedwithprofessionalp', 'Q20Providedwithteachingconten','Q20ProvidedwithICTtoolsandf', 'Q20Noadditionalsupportwasoff', 'Q20Donotknow']:\n",
    "    Q20[c] = Q20[c].astype('str')\n",
    "\n",
    "\n",
    "\n",
    "Q20[\"Q20OfferedspecialtrainingIf\"] = Q20[\"Q20OfferedspecialtrainingIf\"].replace([\"Offered special training (If so, please answer Question 20.1)\"], \"Special training offers\")\n",
    "\n",
    "Q20[\"Q20Providedwithinstructionon\"] = Q20[\"Q20Providedwithinstructionon\"].replace([\"Provided with instruction on distance instruction (TV, radio, learning platforms, etc.)\"], \"Distance learning instructions\")\n",
    "\n",
    "Q20[\"Q20Providedwithprofessionalp\"] = Q20[\"Q20Providedwithprofessionalp\"].replace([\"Provided with professional, psychosocial and emotional support (e.g. chat groups, online forums to share ideas and educational content)\"], \"Psychosocial/emotional support\")\n",
    "\n",
    "Q20[\"Q20Providedwithteachingconten\"] = Q20[\"Q20Providedwithteachingconten\"].replace([\"Provided with teaching content adapted to remote teaching (e.g. use of open educational resources (OERs), sample lesson plans etc..)\"], \"Adapted contents for remote teaching\")\n",
    "\n",
    "Q20[\"Q20ProvidedwithICTtoolsandf\"] = Q20[\"Q20ProvidedwithICTtoolsandf\"].replace([\"Provided with ICT tools and free connectivity (PC, mobile device, voucher for mobile broadband, etc..)\"], \"Free ICT tools and connectivity\")\n",
    "\n",
    "Q20[\"Q20Noadditionalsupportwasoff\"] = Q20[\"Q20Noadditionalsupportwasoff\"].replace([\"No additional support was offered to teachers\"], \"No support received\")\n",
    "\n",
    "\n",
    "Q20['SupportToTeachers'] = Q20['Q20OfferedspecialtrainingIf']+\";\"+Q20['Q20Providedwithinstructionon']+\";\"+Q20['Q20Providedwithprofessionalp']+\";\"+Q20['Q20Providedwithteachingconten']+\";\"+Q20['Q20ProvidedwithICTtoolsandf']+\";\"+Q20['Q20Noadditionalsupportwasoff']+\";\"+Q20['Q20Donotknow']\n",
    "\n",
    "\n",
    "Q20['SupportToTeachers'] =Q20['SupportToTeachers'].apply(lambda x: re.sub(\"null\", \"\", string=x))\n",
    "Q20['SupportToTeachers'] =Q20['SupportToTeachers'].apply(lambda x: re.sub(\";;;;\", \"\", string=x))\n",
    "Q20['SupportToTeachers'] =Q20['SupportToTeachers'].apply(lambda x: re.sub(\"^;;\", \"\", string=x))\n",
    "Q20['SupportToTeachers'] =Q20['SupportToTeachers'].apply(lambda x: re.sub(\"^;\", \"\", string=x))\n",
    "Q20['SupportToTeachers'] =Q20['SupportToTeachers'].apply(lambda x: re.sub(\";;$\", \"\", string=x))\n",
    "Q20['SupportToTeachers'] =Q20['SupportToTeachers'].apply(lambda x: re.sub(\";$\", \"\", string=x))\n",
    "Q20['SupportToTeachers'] =Q20['SupportToTeachers'].apply(lambda x: re.sub(\";;;\", \";\", string=x))\n",
    "Q20['SupportToTeachers'] =Q20['SupportToTeachers'].apply(lambda x: re.sub(\";;\", \";\", string=x))\n",
    "Q20['SupportToTeachers'] =Q20['SupportToTeachers'].apply(lambda x: re.sub(\";\", \"; \", string=x))\n",
    "\n",
    "Q20[\"SupportToTeachers\"] = Q20[\"SupportToTeachers\"].replace([\"\", \"Do not know\"], \"NO INFORMATION\")\n",
    "\n",
    "Q20['SupportToTeachers'] =Q20['SupportToTeachers'].apply(lambda x: re.sub(\"Do not know\", \"\", string=x))\n",
    "Q20['SupportToTeachers'] =Q20['SupportToTeachers'].apply(lambda x: re.sub(\"No support received\", \"\", string=x))\n",
    "\n",
    "Q20[\"SupportToTeachers\"] = Q20[\"SupportToTeachers\"].replace([\"\"], \"No support received\")\n",
    "Q20 = Q20[['ISO3','SupportToTeachers']]\n",
    "\n",
    "Q20['SupportToTeachers'].value_counts()\n",
    "Q20.to_csv(\"Measures_support_to_teachers.csv\", sep =\";\", index=False)  \n"
   ]
  },
  {
   "cell_type": "code",
   "execution_count": null,
   "metadata": {},
   "outputs": [],
   "source": [
    "# working on Q21 : measures to support teachers during the crisis\n",
    "\n",
    "Q21 = detailed[['ISO3','Q21Phonecallstostudentsorpa', 'Q21Emailstostudents', 'Q21TextWhatsAppotherapplicati', 'Q21Homevisits','Q21Therewerenospecificguidel', 'Q21Donotknow']]\n",
    "Q21 = Q21.fillna('null')\n",
    "Q21['MeasuresToStudents'] = \"null\"\n",
    "\n",
    "for i in range(0,len(Q21)):\n",
    "    Q21.at[i,'MeasuresToStudents'] = ['Phone Calls','Emails','Messaging Applications','Home Visits', 'No measures taken', 'Do not know']\n",
    "\n",
    "Q21['Q21Answers'] = Q21['Q21Phonecallstostudentsorpa']+\",\"+Q21['Q21Emailstostudents']+\",\"+Q21['Q21TextWhatsAppotherapplicati']+\",\"+Q21['Q21Homevisits']+\",\"+Q21['Q21Therewerenospecificguidel']+\",\"+Q21['Q21Donotknow']\n",
    "\n",
    "Q21['Contact_students'] = \"null\"\n",
    "for i in range(0,len(Q21)):\n",
    "    Q21.at[i,'Contact_students'] = Q21['Q21Answers'][i].split(\",\")\n",
    "\n",
    "Q21 = Q21[['ISO3', 'MeasuresToStudents','Contact_students']]\n",
    "#exploding one single record into multiple records for a country regarding its answers to Q21\n",
    "Q21 =  explode(Q21, ['MeasuresToStudents','Contact_students'], fill_value='')\n",
    "Q21.to_csv(\"Measures_improve_contact_with_students.csv\", sep =\";\")  \n"
   ]
  },
  {
   "cell_type": "code",
   "execution_count": null,
   "metadata": {},
   "outputs": [],
   "source": [
    "#working on Q18 : were teachers required to keep teaching during school closures ?\n",
    "#simply extracting the columns and the ISO code associated : no cleaning needed \n",
    "Q18 = detailed[['ISO3', 'Q18']]\n",
    "Q18 = Q18.rename(columns = {'Q18': \"RequiredToTeachDuringClosures\"})\n",
    "Q18 = Q18.fillna('Do not know')\n",
    "Q18[\"RequiredToTeachDuringClosures\"] = Q18[\"RequiredToTeachDuringClosures\"].replace([\"No\"], \"No requirements\")\n",
    "Q18.to_csv('Teacher_requirement_keep_Teaching_school_closures.csv', sep = \";\", index=False)\n",
    "\n"
   ]
  },
  {
   "cell_type": "code",
   "execution_count": null,
   "metadata": {},
   "outputs": [],
   "source": []
  },
  {
   "cell_type": "code",
   "execution_count": 61,
   "metadata": {},
   "outputs": [],
   "source": [
    "#working on Q25 : measure to support inclusion in distance learning \n",
    "Q25 = detailed[['ISO3','Q25Supporttolearnerswithdisa', 'Q25Improvedaccesstoinfrastruc', 'Q25Designoflearningmaterials', 'Q25Subsidizeddevicesforaccess','Q25Flexibleandself_pacedplatf', 'Q25Specialeffortstomakeonlin', 'Q25Additionalsupporttolower_i', 'Q25None', 'Q25Donotknow']]\n",
    "\n",
    "Q25 = Q25.fillna('null')\n",
    "\n",
    "for c in ['Q25Supporttolearnerswithdisa', 'Q25Improvedaccesstoinfrastruc', 'Q25Designoflearningmaterials', 'Q25Subsidizeddevicesforaccess','Q25Flexibleandself_pacedplatf', 'Q25Specialeffortstomakeonlin', 'Q25Additionalsupporttolower_i', 'Q25None', 'Q25Donotknow']:\n",
    "    Q25[c] = Q25[c].astype('str')\n",
    "\n",
    "\n",
    "Q25[\"Q25Supporttolearnerswithdisa\"] = Q25[\"Q25Supporttolearnerswithdisa\"].replace([\"Support to learners with disabilities (e.g. sign language in online learning programmes)\"], \"Support to learners with disabilities\")\n",
    "\n",
    "Q25[\"Q25Improvedaccesstoinfrastruc\"] = Q25[\"Q25Improvedaccesstoinfrastruc\"].replace([\"Improved access to infrastructure for learners in remote areas; and in urban high-density areas\"], \"Infrastructure access improved for learner in remote or urban high-density area \")\n",
    "\n",
    "Q25[\"Q25Flexibleandself_pacedplatf\"] = Q25[\"Q25Flexibleandself_pacedplatf\"].replace([\"Flexible and self-paced platforms (Asynchronous learning platforms)\"], \"Asynchronus learning platforms\")\n",
    "\n",
    "Q25[\"Q25Specialeffortstomakeonlin\"] = Q25[\"Q25Specialeffortstomakeonlin\"].replace([\"Special efforts to make online learning more accessible to migrant and displaced children, including those in camps\"], \"Make online learning accessible to migrand and displaced children\")\n",
    "\n",
    "Q25[\"Q25Additionalsupporttolower_i\"] = Q25[\"Q25Additionalsupporttolower_i\"].replace([\"Additional support to lower-income households, including economic support (i.e. take-home rations, cash based transfers)\"], \"Economic support\")\n",
    "\n",
    "Q25[\"Q25None\"] = Q25[\"Q25None\"].replace([\"None\"], \"No measures to insure inclusion\")\n",
    "\n",
    "\n",
    "Q25['SupportInclusion'] = Q25['Q25Supporttolearnerswithdisa']+\";\"+Q25['Q25Improvedaccesstoinfrastruc']+\";\"+Q25['Q25Designoflearningmaterials']+\";\"+Q25['Q25Subsidizeddevicesforaccess']+\";\"+Q25['Q25Flexibleandself_pacedplatf']+\";\"+Q25['Q25Specialeffortstomakeonlin']+\";\"+Q25['Q25Additionalsupporttolower_i']+\";\"+Q25['Q25None']+\";\"+Q25['Q25Donotknow']\n",
    "\n",
    "\n",
    "Q25['SupportInclusion'] =Q25['SupportInclusion'].apply(lambda x: re.sub(\"null\", \"\", string=x))\n",
    "Q25['SupportInclusion'] =Q25['SupportInclusion'].apply(lambda x: re.sub(\";;;;\", \"\", string=x))\n",
    "Q25['SupportInclusion'] =Q25['SupportInclusion'].apply(lambda x: re.sub(\"^;;\", \"\", string=x))\n",
    "Q25['SupportInclusion'] =Q25['SupportInclusion'].apply(lambda x: re.sub(\"^;\", \"\", string=x))\n",
    "Q25['SupportInclusion'] =Q25['SupportInclusion'].apply(lambda x: re.sub(\";;$\", \"\", string=x))\n",
    "Q25['SupportInclusion'] =Q25['SupportInclusion'].apply(lambda x: re.sub(\";$\", \"\", string=x))\n",
    "Q25['SupportInclusion'] =Q25['SupportInclusion'].apply(lambda x: re.sub(\";;;\", \";\", string=x))\n",
    "Q25['SupportInclusion'] =Q25['SupportInclusion'].apply(lambda x: re.sub(\";;\", \";\", string=x))\n",
    "Q25['SupportInclusion'] =Q25['SupportInclusion'].apply(lambda x: re.sub(\";\", \"; \", string=x))\n",
    "\n",
    "Q25[\"SupportInclusion\"] = Q25[\"SupportInclusion\"].replace([\"\", \"Do not know\"], \"NO INFORMATION\")\n",
    "Q25['SupportInclusion'] =Q25['SupportInclusion'].apply(lambda x: re.sub(\"Do not know\", \"\", string=x))\n",
    "Q25['SupportInclusion'] =Q25['SupportInclusion'].apply(lambda x: re.sub(\"No measures to insure inclusion\", \"\", string=x))\n",
    "\n",
    "Q25[\"SupportInclusion\"] = Q25[\"SupportInclusion\"].replace([\"\"], \"No measures to insure inclusion\")\n",
    "Q25[\"SupportInclusion\"] = Q25[\"SupportInclusion\"].replace([\"; \"], \"NO INFORMATION\")\n",
    "\n",
    "Q25 = Q25 [['ISO3', 'SupportInclusion']]\n",
    "\n",
    "Q25.to_csv(\"Support_inclusion_distance_learning.csv\", sep =\";\", index=False)  "
   ]
  },
  {
   "cell_type": "code",
   "execution_count": 65,
   "metadata": {},
   "outputs": [],
   "source": [
    "#working on Q26 : \n",
    "\n",
    "\n",
    "Q26 = detailed[['ISO3','Q26_1Psychosocialandmentalhea', 'Q26_1Additionalchildprotection', 'Q26_1Supporttocounterinterrup', 'Q26_1Regularcallsfromteachers','Q26_1Nomeasures', 'Q26_1Donotknow']]\n",
    "Q26 = Q26.fillna('null')\n",
    "Q26['MeasuresWellBeing_Categories'] = \"null\"\n",
    "\n",
    "for i in range(0,len(Q26)):\n",
    "    Q26.at[i,'MeasuresWellBeing_Categories'] = ['Psycho/Mental support','Child Protection Service','Support for interrupted meal services','Regular Calls from pricipals', 'No measures', 'Do not know']\n",
    "\n",
    "Q26['Q26Answers'] = Q26['Q26_1Psychosocialandmentalhea']+\";\"+Q26['Q26_1Additionalchildprotection']+\";\"+Q26['Q26_1Supporttocounterinterrup']+\";\"+Q26['Q26_1Regularcallsfromteachers']+\";\"+Q26['Q26_1Nomeasures']+\";\"+Q26['Q26_1Donotknow']\n",
    "\n",
    "Q26['MeasuresWellBeingTaken'] = \"null\"\n",
    "for i in range(0,len(Q26)):\n",
    "    Q26.at[i,'MeasuresWellBeingTaken'] = Q26['Q26Answers'][i].split(\";\")\n",
    "\n",
    "Q26 = Q26[['ISO3', 'MeasuresWellBeing_Categories','MeasuresWellBeingTaken']]\n",
    "#exploding one single record into multiple records for a country regarding its answers to Q26\n",
    "Q26 =  explode(Q26, ['MeasuresWellBeing_Categories','MeasuresWellBeingTaken'], fill_value='')\n",
    "Q26.to_csv(\"Measures_well_being_students.csv\", sep =\";\", index= False)  \n"
   ]
  },
  {
   "cell_type": "code",
   "execution_count": 66,
   "metadata": {},
   "outputs": [],
   "source": [
    "#working on Q28\n",
    "Q28 = detailed[['ISO3','Q28learningmanagementbythesc', 'Q28learningmanagementbythepr', 'Q28TrackingstudentonExcelor', 'Q28Trackingstudentonpaper','Q28Donotknow', 'Q28Progressisnotbeingtracked']]\n",
    "Q28 = Q28.fillna('null')\n",
    "Q28['MeasuresTracking_Categories'] = \"null\"\n",
    "\n",
    "for i in range(0,len(Q28)):\n",
    "    Q28.at[i,'MeasuresTracking_Categories'] = ['Tracking system from school ','Commercial Tracking system ','Tracking system on Excel','Paper-based tracking system','Do not know', 'No tracking system']\n",
    "\n",
    "Q28['Q28Answers'] = Q28['Q28learningmanagementbythesc']+\";\"+Q28['Q28learningmanagementbythepr']+\";\"+Q28['Q28TrackingstudentonExcelor']+\";\"+Q28['Q28Trackingstudentonpaper']+\";\"+Q28['Q28Donotknow']+\";\"+Q28['Q28Progressisnotbeingtracked']\n",
    "\n",
    "Q28['MeasuresTrackingTaken'] = \"null\"\n",
    "for i in range(0,len(Q28)):\n",
    "    Q28.at[i,'MeasuresTrackingTaken'] = Q28['Q28Answers'][i].split(\";\")\n",
    "\n",
    "Q28 = Q28[['ISO3', 'MeasuresTracking_Categories','MeasuresTrackingTaken']]\n",
    "#exploding one single record into multiple records for a country regarding its answers to Q28\n",
    "Q28 =  explode(Q28, ['MeasuresTracking_Categories','MeasuresTrackingTaken'], fill_value='')\n",
    "Q28.to_csv(\"Measures_tracking_students.csv\", sep =\";\", index= False)  \n"
   ]
  },
  {
   "cell_type": "markdown",
   "metadata": {},
   "source": [
    "CLeaning november 2019 educational indicators from UNICEF (Attendance and completion rates) and merging them "
   ]
  },
  {
   "cell_type": "code",
   "execution_count": 147,
   "metadata": {},
   "outputs": [],
   "source": [
    "atttendance_pre_primary = atttendance_pre_primary[['ISO_Code','Total Population, one year before primary']]\n",
    "atttendance_pre_primary = atttendance_pre_primary.rename(columns = {'ISO_Code': \"ISO\"})\n",
    "atttendance_lower_secondary = atttendance_lower_secondary[['ISO_Code','Total Population, lsec']]\n",
    "atttendance_upper_secondary = atttendance_upper_secondary[['ISO_Code','Total Population, upper secondary']]\n",
    "\n",
    "attendance = pd.concat([atttendance_pre_primary,atttendance_primary,atttendance_lower_secondary, atttendance_upper_secondary], axis=1, join='outer')\n",
    "attendance = attendance[['ISO','Total Population, one year before primary', 'Total Population, primary', 'Total Population, lsec', 'Total Population, upper secondary']]\n",
    "attendance =attendance.fillna(0)\n",
    "\n",
    "attendance[\"Total Attendance Nov2019\"] = attendance['Total Population, one year before primary']+attendance['Total Population, primary']+attendance['Total Population, lsec']+attendance['Total Population, upper secondary']\n"
   ]
  },
  {
   "cell_type": "code",
   "execution_count": 148,
   "metadata": {},
   "outputs": [],
   "source": [
    "attendance[\"Total Attendance Nov2019\"] = attendance[\"Total Attendance Nov2019\"].replace([0], \"null\")"
   ]
  },
  {
   "cell_type": "code",
   "execution_count": 149,
   "metadata": {},
   "outputs": [
    {
     "data": {
      "text/html": "<div>\n<style scoped>\n    .dataframe tbody tr th:only-of-type {\n        vertical-align: middle;\n    }\n\n    .dataframe tbody tr th {\n        vertical-align: top;\n    }\n\n    .dataframe thead th {\n        text-align: right;\n    }\n</style>\n<table border=\"1\" class=\"dataframe\">\n  <thead>\n    <tr style=\"text-align: right;\">\n      <th></th>\n      <th>ISO</th>\n      <th>Total Population, one year before primary</th>\n      <th>Total Population, primary</th>\n      <th>Total Population, lsec</th>\n      <th>Total Population, upper secondary</th>\n      <th>Total Attendance Nov2019</th>\n    </tr>\n  </thead>\n  <tbody>\n    <tr>\n      <td>0</td>\n      <td>AFG</td>\n      <td>1049189.0</td>\n      <td>6170913.0</td>\n      <td>2839981.0</td>\n      <td>2597554</td>\n      <td>1.26576e+07</td>\n    </tr>\n    <tr>\n      <td>1</td>\n      <td>ALB</td>\n      <td>0.0</td>\n      <td>156833.0</td>\n      <td>143167.0</td>\n      <td>131436</td>\n      <td>431436</td>\n    </tr>\n    <tr>\n      <td>2</td>\n      <td>DZA</td>\n      <td>887565.0</td>\n      <td>4040275.0</td>\n      <td>2479484.0</td>\n      <td>1692909</td>\n      <td>9.10023e+06</td>\n    </tr>\n    <tr>\n      <td>3</td>\n      <td>AND</td>\n      <td>0.0</td>\n      <td>0.0</td>\n      <td>0.0</td>\n      <td>0</td>\n      <td>null</td>\n    </tr>\n    <tr>\n      <td>4</td>\n      <td>AGO</td>\n      <td>991313.0</td>\n      <td>5482624.0</td>\n      <td>2321369.0</td>\n      <td>2043253</td>\n      <td>1.08386e+07</td>\n    </tr>\n    <tr>\n      <td>...</td>\n      <td>...</td>\n      <td>...</td>\n      <td>...</td>\n      <td>...</td>\n      <td>...</td>\n      <td>...</td>\n    </tr>\n    <tr>\n      <td>197</td>\n      <td>VEN</td>\n      <td>593601.0</td>\n      <td>3530439.0</td>\n      <td>1727860.0</td>\n      <td>1134003</td>\n      <td>6.9859e+06</td>\n    </tr>\n    <tr>\n      <td>198</td>\n      <td>VNM</td>\n      <td>1527560.0</td>\n      <td>7363689.0</td>\n      <td>5380477.0</td>\n      <td>3935885</td>\n      <td>1.82076e+07</td>\n    </tr>\n    <tr>\n      <td>199</td>\n      <td>YEM</td>\n      <td>770587.0</td>\n      <td>4383983.0</td>\n      <td>1993572.0</td>\n      <td>1881485</td>\n      <td>9.02963e+06</td>\n    </tr>\n    <tr>\n      <td>200</td>\n      <td>ZMB</td>\n      <td>516416.0</td>\n      <td>3363211.0</td>\n      <td>865269.0</td>\n      <td>1200386</td>\n      <td>5.94528e+06</td>\n    </tr>\n    <tr>\n      <td>201</td>\n      <td>ZWE</td>\n      <td>486424.0</td>\n      <td>3119270.0</td>\n      <td>770968.0</td>\n      <td>1423898</td>\n      <td>5.80056e+06</td>\n    </tr>\n  </tbody>\n</table>\n<p>202 rows × 6 columns</p>\n</div>",
      "text/plain": "     ISO  Total Population, one year before primary  \\\n0    AFG                                  1049189.0   \n1    ALB                                        0.0   \n2    DZA                                   887565.0   \n3    AND                                        0.0   \n4    AGO                                   991313.0   \n..   ...                                        ...   \n197  VEN                                   593601.0   \n198  VNM                                  1527560.0   \n199  YEM                                   770587.0   \n200  ZMB                                   516416.0   \n201  ZWE                                   486424.0   \n\n     Total Population, primary  Total Population, lsec  \\\n0                    6170913.0               2839981.0   \n1                     156833.0                143167.0   \n2                    4040275.0               2479484.0   \n3                          0.0                     0.0   \n4                    5482624.0               2321369.0   \n..                         ...                     ...   \n197                  3530439.0               1727860.0   \n198                  7363689.0               5380477.0   \n199                  4383983.0               1993572.0   \n200                  3363211.0                865269.0   \n201                  3119270.0                770968.0   \n\n     Total Population, upper secondary Total Attendance Nov2019  \n0                              2597554              1.26576e+07  \n1                               131436                   431436  \n2                              1692909              9.10023e+06  \n3                                    0                     null  \n4                              2043253              1.08386e+07  \n..                                 ...                      ...  \n197                            1134003               6.9859e+06  \n198                            3935885              1.82076e+07  \n199                            1881485              9.02963e+06  \n200                            1200386              5.94528e+06  \n201                            1423898              5.80056e+06  \n\n[202 rows x 6 columns]"
     },
     "execution_count": 149,
     "metadata": {},
     "output_type": "execute_result"
    }
   ],
   "source": [
    "attendance"
   ]
  },
  {
   "cell_type": "code",
   "execution_count": 150,
   "metadata": {},
   "outputs": [],
   "source": [
    "import numpy  as np\n",
    "completion_primary = completion_primary[['ISO_Code','Total']]\n",
    "completion_primary = completion_primary.rename(columns = {'ISO_Code': \"ISO_completion\", \"Total\": \"%Total_primary\"})\n",
    "completion_lower_secondary = completion_lower_secondary[['ISO_Code','Total']]\n",
    "completion_lower_secondary = completion_lower_secondary.rename(columns = {\"Total\": \"%Total_lower_secondary\"})\n",
    "completion_upper_secondary = completion_upper_secondary[['ISO_Code','Total']]\n",
    "completion_upper_secondary = completion_upper_secondary.rename(columns = {\"Total\": \"%Total_upper_secondary\"})\n",
    "\n",
    "completion = pd.concat([completion_primary,completion_lower_secondary, completion_upper_secondary], axis=1, join='outer')\n",
    "completion= completion[['ISO_completion', '%Total_primary', '%Total_lower_secondary', '%Total_upper_secondary']]\n",
    "completion =completion.fillna(0)\n",
    "completion[\"%Total_primary\"] = completion[\"%Total_primary\"].replace([0], np.nan)\n",
    "completion[\"%Total_lower_secondary\"] = completion[\"%Total_lower_secondary\"].replace([0], np.nan)\n",
    "completion[\"%Total_upper_secondary\"] = completion[\"%Total_upper_secondary\"].replace([0], np.nan)\n",
    "completion[\"Average % Attendance Nov2019\"]  = completion.mean(numeric_only=True, axis=1)\n",
    "\n"
   ]
  },
  {
   "cell_type": "code",
   "execution_count": 151,
   "metadata": {},
   "outputs": [],
   "source": [
    "completion = completion.drop(202)\n",
    "completion = completion.drop(203)"
   ]
  },
  {
   "cell_type": "code",
   "execution_count": 152,
   "metadata": {},
   "outputs": [
    {
     "data": {
      "text/html": "<div>\n<style scoped>\n    .dataframe tbody tr th:only-of-type {\n        vertical-align: middle;\n    }\n\n    .dataframe tbody tr th {\n        vertical-align: top;\n    }\n\n    .dataframe thead th {\n        text-align: right;\n    }\n</style>\n<table border=\"1\" class=\"dataframe\">\n  <thead>\n    <tr style=\"text-align: right;\">\n      <th></th>\n      <th>ISO</th>\n      <th>Total Population, one year before primary</th>\n      <th>Total Population, primary</th>\n      <th>Total Population, lsec</th>\n      <th>Total Population, upper secondary</th>\n      <th>Total Attendance Nov2019</th>\n      <th>%Total_primary</th>\n      <th>%Total_lower_secondary</th>\n      <th>%Total_upper_secondary</th>\n      <th>Average % Attendance Nov2019</th>\n    </tr>\n  </thead>\n  <tbody>\n    <tr>\n      <td>0</td>\n      <td>AFG</td>\n      <td>1049189.0</td>\n      <td>6170913.0</td>\n      <td>2839981.0</td>\n      <td>2597554</td>\n      <td>1.26576e+07</td>\n      <td>53.900000</td>\n      <td>37.217084</td>\n      <td>22.895344</td>\n      <td>38.004142</td>\n    </tr>\n    <tr>\n      <td>1</td>\n      <td>ALB</td>\n      <td>0.0</td>\n      <td>156833.0</td>\n      <td>143167.0</td>\n      <td>131436</td>\n      <td>431436</td>\n      <td>91.942408</td>\n      <td>96.245591</td>\n      <td>50.459568</td>\n      <td>79.549189</td>\n    </tr>\n    <tr>\n      <td>2</td>\n      <td>DZA</td>\n      <td>887565.0</td>\n      <td>4040275.0</td>\n      <td>2479484.0</td>\n      <td>1692909</td>\n      <td>9.10023e+06</td>\n      <td>93.800000</td>\n      <td>64.000000</td>\n      <td>37.800000</td>\n      <td>65.200000</td>\n    </tr>\n    <tr>\n      <td>3</td>\n      <td>AND</td>\n      <td>0.0</td>\n      <td>0.0</td>\n      <td>0.0</td>\n      <td>0</td>\n      <td>null</td>\n      <td>NaN</td>\n      <td>NaN</td>\n      <td>NaN</td>\n      <td>NaN</td>\n    </tr>\n    <tr>\n      <td>4</td>\n      <td>AGO</td>\n      <td>991313.0</td>\n      <td>5482624.0</td>\n      <td>2321369.0</td>\n      <td>2043253</td>\n      <td>1.08386e+07</td>\n      <td>50.900000</td>\n      <td>35.685495</td>\n      <td>17.412797</td>\n      <td>34.666097</td>\n    </tr>\n    <tr>\n      <td>...</td>\n      <td>...</td>\n      <td>...</td>\n      <td>...</td>\n      <td>...</td>\n      <td>...</td>\n      <td>...</td>\n      <td>...</td>\n      <td>...</td>\n      <td>...</td>\n      <td>...</td>\n    </tr>\n    <tr>\n      <td>197</td>\n      <td>VEN</td>\n      <td>593601.0</td>\n      <td>3530439.0</td>\n      <td>1727860.0</td>\n      <td>1134003</td>\n      <td>6.9859e+06</td>\n      <td>NaN</td>\n      <td>NaN</td>\n      <td>NaN</td>\n      <td>NaN</td>\n    </tr>\n    <tr>\n      <td>198</td>\n      <td>VNM</td>\n      <td>1527560.0</td>\n      <td>7363689.0</td>\n      <td>5380477.0</td>\n      <td>3935885</td>\n      <td>1.82076e+07</td>\n      <td>96.600000</td>\n      <td>83.700000</td>\n      <td>55.500000</td>\n      <td>78.600000</td>\n    </tr>\n    <tr>\n      <td>199</td>\n      <td>YEM</td>\n      <td>770587.0</td>\n      <td>4383983.0</td>\n      <td>1993572.0</td>\n      <td>1881485</td>\n      <td>9.02963e+06</td>\n      <td>62.600000</td>\n      <td>46.300000</td>\n      <td>29.500000</td>\n      <td>46.133333</td>\n    </tr>\n    <tr>\n      <td>200</td>\n      <td>ZMB</td>\n      <td>516416.0</td>\n      <td>3363211.0</td>\n      <td>865269.0</td>\n      <td>1200386</td>\n      <td>5.94528e+06</td>\n      <td>74.100000</td>\n      <td>50.500000</td>\n      <td>27.600000</td>\n      <td>50.733333</td>\n    </tr>\n    <tr>\n      <td>201</td>\n      <td>ZWE</td>\n      <td>486424.0</td>\n      <td>3119270.0</td>\n      <td>770968.0</td>\n      <td>1423898</td>\n      <td>5.80056e+06</td>\n      <td>87.900000</td>\n      <td>69.600000</td>\n      <td>12.600000</td>\n      <td>56.700000</td>\n    </tr>\n  </tbody>\n</table>\n<p>202 rows × 10 columns</p>\n</div>",
      "text/plain": "     ISO  Total Population, one year before primary  \\\n0    AFG                                  1049189.0   \n1    ALB                                        0.0   \n2    DZA                                   887565.0   \n3    AND                                        0.0   \n4    AGO                                   991313.0   \n..   ...                                        ...   \n197  VEN                                   593601.0   \n198  VNM                                  1527560.0   \n199  YEM                                   770587.0   \n200  ZMB                                   516416.0   \n201  ZWE                                   486424.0   \n\n     Total Population, primary  Total Population, lsec  \\\n0                    6170913.0               2839981.0   \n1                     156833.0                143167.0   \n2                    4040275.0               2479484.0   \n3                          0.0                     0.0   \n4                    5482624.0               2321369.0   \n..                         ...                     ...   \n197                  3530439.0               1727860.0   \n198                  7363689.0               5380477.0   \n199                  4383983.0               1993572.0   \n200                  3363211.0                865269.0   \n201                  3119270.0                770968.0   \n\n     Total Population, upper secondary Total Attendance Nov2019  \\\n0                              2597554              1.26576e+07   \n1                               131436                   431436   \n2                              1692909              9.10023e+06   \n3                                    0                     null   \n4                              2043253              1.08386e+07   \n..                                 ...                      ...   \n197                            1134003               6.9859e+06   \n198                            3935885              1.82076e+07   \n199                            1881485              9.02963e+06   \n200                            1200386              5.94528e+06   \n201                            1423898              5.80056e+06   \n\n     %Total_primary  %Total_lower_secondary  %Total_upper_secondary  \\\n0         53.900000               37.217084               22.895344   \n1         91.942408               96.245591               50.459568   \n2         93.800000               64.000000               37.800000   \n3               NaN                     NaN                     NaN   \n4         50.900000               35.685495               17.412797   \n..              ...                     ...                     ...   \n197             NaN                     NaN                     NaN   \n198       96.600000               83.700000               55.500000   \n199       62.600000               46.300000               29.500000   \n200       74.100000               50.500000               27.600000   \n201       87.900000               69.600000               12.600000   \n\n     Average % Attendance Nov2019  \n0                       38.004142  \n1                       79.549189  \n2                       65.200000  \n3                             NaN  \n4                       34.666097  \n..                            ...  \n197                           NaN  \n198                     78.600000  \n199                     46.133333  \n200                     50.733333  \n201                     56.700000  \n\n[202 rows x 10 columns]"
     },
     "execution_count": 152,
     "metadata": {},
     "output_type": "execute_result"
    }
   ],
   "source": [
    "indicators_nov2019 = pd.concat([attendance, completion], axis=1, join='outer')\n",
    "indicators_nov2019 = indicators_nov2019.drop(columns=['ISO_completion'])\n"
   ]
  },
  {
   "cell_type": "code",
   "execution_count": 153,
   "metadata": {},
   "outputs": [],
   "source": [
    "indicators_nov2019.to_csv(\"educational_indicators_nov2019.csv\", sep=\";\", index = False)"
   ]
  },
  {
   "cell_type": "markdown",
   "metadata": {},
   "source": [
    "Cleaning on polygone data for the globe representation : making sure countries have the same labels as in the survey data "
   ]
  },
  {
   "cell_type": "code",
   "execution_count": 20,
   "metadata": {},
   "outputs": [],
   "source": [
    "summary\n",
    "lands  = pd.read_csv(\"data/polygones_countries.csv\")"
   ]
  },
  {
   "cell_type": "code",
   "execution_count": 21,
   "metadata": {},
   "outputs": [
    {
     "data": {
      "text/plain": "['Indonesia',\n 'Malaysia',\n 'Chile',\n 'Bolivia',\n 'Peru',\n 'Argentina',\n 'Dhekelia Sovereign Base Area',\n 'Cyprus',\n 'India',\n 'China',\n 'Israel',\n 'Palestine',\n 'Lebanon',\n 'Ethiopia',\n 'South Sudan',\n 'Somalia',\n 'Kenya',\n 'Pakistan',\n 'Malawi',\n 'United Republic of Tanzania',\n 'Syria',\n 'Somaliland',\n 'France',\n 'Suriname',\n 'Guyana',\n 'South Korea',\n 'North Korea',\n 'Morocco',\n 'Western Sahara',\n 'Costa Rica',\n 'Nicaragua',\n 'Republic of the Congo',\n 'Democratic Republic of the Congo',\n 'Bhutan',\n 'Ukraine',\n 'Belarus',\n 'Namibia',\n 'South Africa',\n 'Saint Martin',\n 'Sint Maarten',\n 'Oman',\n 'Uzbekistan',\n 'Kazakhstan',\n 'Tajikistan',\n 'Lithuania',\n 'Brazil',\n 'Uruguay',\n 'Mongolia',\n 'Russia',\n 'Czechia',\n 'Germany',\n 'Estonia',\n 'Latvia',\n 'Norway',\n 'Sweden',\n 'Finland',\n 'Vietnam',\n 'Cambodia',\n 'Luxembourg',\n 'United Arab Emirates',\n 'Belgium',\n 'Georgia',\n 'Macedonia',\n 'Albania',\n 'Azerbaijan',\n 'Kosovo',\n 'Turkey',\n 'Spain',\n 'Laos',\n 'Kyrgyzstan',\n 'Armenia',\n 'Denmark',\n 'Libya',\n 'Tunisia',\n 'Romania',\n 'Hungary',\n 'Slovakia',\n 'Poland',\n 'Ireland',\n 'United Kingdom',\n 'Greece',\n 'Zambia',\n 'Sierra Leone',\n 'Guinea',\n 'Liberia',\n 'Central African Republic',\n 'Sudan',\n 'Djibouti',\n 'Eritrea',\n 'Austria',\n 'Iraq',\n 'Italy',\n 'Switzerland',\n 'Iran',\n 'Netherlands',\n 'Liechtenstein',\n 'Ivory Coast',\n 'Republic of Serbia',\n 'Mali',\n 'Senegal',\n 'Nigeria',\n 'Benin',\n 'Angola',\n 'Croatia',\n 'Slovenia',\n 'Qatar',\n 'Saudi Arabia',\n 'Botswana',\n 'Zimbabwe',\n 'Bulgaria',\n 'Thailand',\n 'San Marino',\n 'Haiti',\n 'Dominican Republic',\n 'Chad',\n 'Kuwait',\n 'El Salvador',\n 'Guatemala',\n 'East Timor',\n 'Brunei',\n 'Monaco',\n 'Algeria',\n 'Mozambique',\n 'eSwatini',\n 'Burundi',\n 'Rwanda',\n 'Myanmar',\n 'Bangladesh',\n 'Andorra',\n 'Afghanistan',\n 'Montenegro',\n 'Bosnia and Herzegovina',\n 'Uganda',\n 'US Naval Base Guantanamo Bay',\n 'Cuba',\n 'Honduras',\n 'Ecuador',\n 'Colombia',\n 'Paraguay',\n 'Portugal',\n 'Moldova',\n 'Turkmenistan',\n 'Jordan',\n 'Nepal',\n 'Lesotho',\n 'Cameroon',\n 'Gabon',\n 'Niger',\n 'Burkina Faso',\n 'Togo',\n 'Ghana',\n 'Guinea-Bissau',\n 'Gibraltar',\n 'United States of America',\n 'Canada',\n 'Mexico',\n 'Belize',\n 'Panama',\n 'Venezuela',\n 'Papua New Guinea',\n 'Egypt',\n 'Yemen',\n 'Mauritania',\n 'Equatorial Guinea',\n 'Gambia',\n 'Hong Kong S.A.R.',\n 'Vatican',\n 'Northern Cyprus',\n 'Cyprus No Mans Area',\n 'Siachen Glacier',\n 'Baykonur Cosmodrome',\n 'Akrotiri Sovereign Base Area',\n 'Antarctica',\n 'Australia',\n 'Greenland',\n 'Fiji',\n 'New Zealand',\n 'New Caledonia',\n 'Madagascar',\n 'Philippines',\n 'Sri Lanka',\n 'Curaçao',\n 'Aruba',\n 'The Bahamas',\n 'Turks and Caicos Islands',\n 'Taiwan',\n 'Japan',\n 'Saint Pierre and Miquelon',\n 'Iceland',\n 'Pitcairn Islands',\n 'French Polynesia',\n 'French Southern and Antarctic Lands',\n 'Seychelles',\n 'Kiribati',\n 'Marshall Islands',\n 'Trinidad and Tobago',\n 'Grenada',\n 'Saint Vincent and the Grenadines',\n 'Barbados',\n 'Saint Lucia',\n 'Dominica',\n 'United States Minor Outlying Islands',\n 'Montserrat',\n 'Antigua and Barbuda',\n 'Saint Kitts and Nevis',\n 'United States Virgin Islands',\n 'Saint Barthelemy',\n 'Puerto Rico',\n 'Anguilla',\n 'British Virgin Islands',\n 'Jamaica',\n 'Cayman Islands',\n 'Bermuda',\n 'Heard Island and McDonald Islands',\n 'Saint Helena',\n 'Mauritius',\n 'Comoros',\n 'São Tomé and Principe',\n 'Cabo Verde',\n 'Malta',\n 'Jersey',\n 'Guernsey',\n 'Isle of Man',\n 'Aland',\n 'Faroe Islands',\n 'Indian Ocean Territories',\n 'British Indian Ocean Territory',\n 'Singapore',\n 'Norfolk Island',\n 'Cook Islands',\n 'Tonga',\n 'Wallis and Futuna',\n 'Samoa',\n 'Solomon Islands',\n 'Tuvalu',\n 'Maldives',\n 'Nauru',\n 'Federated States of Micronesia',\n 'South Georgia and the Islands',\n 'Falkland Islands',\n 'Vanuatu',\n 'Niue',\n 'American Samoa',\n 'Palau',\n 'Guam',\n 'Northern Mariana Islands',\n 'Bahrain',\n 'Coral Sea Islands',\n 'Spratly Islands',\n 'Clipperton Island',\n 'Macao S.A.R',\n 'Ashmore and Cartier Islands',\n 'Bajo Nuevo Bank (Petrel Is.)',\n 'Serranilla Bank',\n 'Scarborough Reef',\n nan]"
     },
     "execution_count": 21,
     "metadata": {},
     "output_type": "execute_result"
    }
   ],
   "source": [
    "unicef = list(summary['subCategory'].unique())\n",
    "land = list(lands['ADMIN'].unique())\n",
    "land\n",
    "\n"
   ]
  },
  {
   "cell_type": "code",
   "execution_count": 22,
   "metadata": {},
   "outputs": [
    {
     "name": "stdout",
     "output_type": "stream",
     "text": "Afghanistan OK\nAlbania OK\nAnguilla OK\nAntigua and Barbuda OK\nArmenia OK\nBangladesh OK\nBarbados OK\nBelarus OK\nBelize OK\nBenin OK\nBhutan OK\nBolivia (Plurinational State of) NOT IN LANDS\nBosnia and Herzegovina OK\nBotswana OK\nBrazil OK\nBritish Virgin Islands OK\nBulgaria OK\nBurkina Faso OK\nBurundi OK\nCameroon OK\nCentral African Republic OK\nChad OK\nChile OK\nColombia OK\nComoros OK\nCongo NOT IN LANDS\nCook Islands OK\nCosta Rica OK\nCroatia OK\nCuba OK\nDemocratic Republic of the Congo OK\nDjibouti OK\nDominica OK\nDominican Republic OK\nEcuador OK\nEgypt OK\nEl Salvador OK\nEquatorial Guinea OK\nEswatini NOT IN LANDS\nEthiopia OK\nFiji OK\nGabon OK\nGambia OK\nGeorgia OK\nGhana OK\nGreece OK\nGrenada OK\nGuatemala OK\nGuinea OK\nGuinea-Bissau OK\nGuyana OK\nHaiti OK\nHonduras OK\nIndia OK\nIndonesia OK\nIraq OK\nJamaica OK\nJordan OK\nKazakhstan OK\nKenya OK\nKiribati OK\nKosovo OK\nKuwait OK\nKyrgyzstan OK\nLao People's Democratic Republic NOT IN LANDS\nLebanon OK\nLesotho OK\nLibya OK\nMadagascar OK\nMalawi OK\nMaldives OK\nMali OK\nMarshall Islands OK\nMauritania OK\nMexico OK\nMicronesia (Federated States of) NOT IN LANDS\nMongolia OK\nMontenegro OK\nMontserrat OK\nMorocco OK\nMozambique OK\nMyanmar OK\nNamibia OK\nNauru OK\nNepal OK\nNiger OK\nNigeria OK\nNiue OK\nNorth Macedonia NOT IN LANDS\nPakistan OK\nPalau OK\nPapua New Guinea OK\nParaguay OK\nPeru OK\nQatar OK\nRepublic of Moldova NOT IN LANDS\nRomania OK\nSaint Kitts and Nevis OK\nSaint Lucia OK\nSaint Vincent and the Grenadines OK\nSamoa OK\nSao Tome and Principe NOT IN LANDS\nSenegal OK\nSerbia NOT IN LANDS\nSierra Leone OK\nSolomon Islands OK\nSomalia OK\nSouth Africa OK\nSouth Sudan OK\nSri Lanka OK\nState of Palestine NOT IN LANDS\nSudan OK\nSuriname OK\nSyrian Arab Republic NOT IN LANDS\nThailand OK\nTimor-Leste NOT IN LANDS\nTogo OK\nTokelau NOT IN LANDS\nTonga OK\nTrinidad and Tobago OK\nTunisia OK\nTurkmenistan OK\nTurks and Caicos Islands OK\nTuvalu OK\nUganda OK\nUkraine OK\nUnited Arab Emirates OK\nUnited Republic of Tanzania OK\nUruguay OK\nUzbekistan OK\nVanuatu OK\nYemen OK\nZambia OK\nZimbabwe OK\n"
    }
   ],
   "source": [
    "for c in unicef:\n",
    "    if c in land: print(c, \"OK\")\n",
    "    else: print(c, \"NOT IN LANDS\")"
   ]
  },
  {
   "cell_type": "code",
   "execution_count": 23,
   "metadata": {},
   "outputs": [],
   "source": [
    "lands[\"ADMIN\"] = lands[\"ADMIN\"].replace([\"Bolivia\"], \"Bolivia (Plurinational State of)\")\n",
    "lands[\"ADMIN\"] = lands[\"ADMIN\"].replace([\"Republic of the Congo\"], \"Congo\")\n",
    "lands[\"ADMIN\"] = lands[\"ADMIN\"].replace([\"eSwatini\"], \"Eswatini\")\n",
    "lands[\"ADMIN\"] = lands[\"ADMIN\"].replace([\"Laos\"], \"Lao People's Democratic Republic\")\n",
    "lands[\"ADMIN\"] = lands[\"ADMIN\"].replace([\"Federated States of Micronesia\"], \"Micronesia (Federated States of)\")\n",
    "lands[\"ADMIN\"] = lands[\"ADMIN\"].replace([\"Macedonia\"], \"North Macedonia\")\n",
    "lands[\"ADMIN\"] = lands[\"ADMIN\"].replace([\"Moldova\"], \"Republic of Moldova\")\n",
    "lands[\"ADMIN\"] = lands[\"ADMIN\"].replace([\"S√£o Tom√© and Principe\"], \"Sao Tome and Principe\")\n",
    "lands[\"ADMIN\"] = lands[\"ADMIN\"].replace([\"Republic of Serbia\"], \"Serbia\")\n",
    "lands[\"ADMIN\"] = lands[\"ADMIN\"].replace([\"Palestine\"], \"State of Palestine\")\n",
    "lands[\"ADMIN\"] = lands[\"ADMIN\"].replace([\"Syria\"], \"Syrian Arab Republic\")\n",
    "lands[\"ADMIN\"] = lands[\"ADMIN\"].replace([\"East Timor\"], \"Timor-Leste\")\n",
    "lands[\"ADMIN\"] = lands[\"ADMIN\"].replace([\"Syria\"], \"Syrian Arab Republic\")\n",
    "\n"
   ]
  },
  {
   "cell_type": "code",
   "execution_count": 24,
   "metadata": {},
   "outputs": [
    {
     "name": "stdout",
     "output_type": "stream",
     "text": "Afghanistan OK\nAlbania OK\nAnguilla OK\nAntigua and Barbuda OK\nArmenia OK\nBangladesh OK\nBarbados OK\nBelarus OK\nBelize OK\nBenin OK\nBhutan OK\nBolivia (Plurinational State of) OK\nBosnia and Herzegovina OK\nBotswana OK\nBrazil OK\nBritish Virgin Islands OK\nBulgaria OK\nBurkina Faso OK\nBurundi OK\nCameroon OK\nCentral African Republic OK\nChad OK\nChile OK\nColombia OK\nComoros OK\nCongo OK\nCook Islands OK\nCosta Rica OK\nCroatia OK\nCuba OK\nDemocratic Republic of the Congo OK\nDjibouti OK\nDominica OK\nDominican Republic OK\nEcuador OK\nEgypt OK\nEl Salvador OK\nEquatorial Guinea OK\nEswatini OK\nEthiopia OK\nFiji OK\nGabon OK\nGambia OK\nGeorgia OK\nGhana OK\nGreece OK\nGrenada OK\nGuatemala OK\nGuinea OK\nGuinea-Bissau OK\nGuyana OK\nHaiti OK\nHonduras OK\nIndia OK\nIndonesia OK\nIraq OK\nJamaica OK\nJordan OK\nKazakhstan OK\nKenya OK\nKiribati OK\nKosovo OK\nKuwait OK\nKyrgyzstan OK\nLao People's Democratic Republic OK\nLebanon OK\nLesotho OK\nLibya OK\nMadagascar OK\nMalawi OK\nMaldives OK\nMali OK\nMarshall Islands OK\nMauritania OK\nMexico OK\nMicronesia (Federated States of) OK\nMongolia OK\nMontenegro OK\nMontserrat OK\nMorocco OK\nMozambique OK\nMyanmar OK\nNamibia OK\nNauru OK\nNepal OK\nNiger OK\nNigeria OK\nNiue OK\nNorth Macedonia OK\nPakistan OK\nPalau OK\nPapua New Guinea OK\nParaguay OK\nPeru OK\nQatar OK\nRepublic of Moldova OK\nRomania OK\nSaint Kitts and Nevis OK\nSaint Lucia OK\nSaint Vincent and the Grenadines OK\nSamoa OK\nSao Tome and Principe NOT IN LANDS\nSenegal OK\nSerbia OK\nSierra Leone OK\nSolomon Islands OK\nSomalia OK\nSouth Africa OK\nSouth Sudan OK\nSri Lanka OK\nState of Palestine OK\nSudan OK\nSuriname OK\nSyrian Arab Republic OK\nThailand OK\nTimor-Leste OK\nTogo OK\nTokelau NOT IN LANDS\nTonga OK\nTrinidad and Tobago OK\nTunisia OK\nTurkmenistan OK\nTurks and Caicos Islands OK\nTuvalu OK\nUganda OK\nUkraine OK\nUnited Arab Emirates OK\nUnited Republic of Tanzania OK\nUruguay OK\nUzbekistan OK\nVanuatu OK\nYemen OK\nZambia OK\nZimbabwe OK\n"
    }
   ],
   "source": [
    "land = list(lands['ADMIN'].unique())\n",
    "\n",
    "for c in unicef:\n",
    "    if c in land: print(c, \"OK\")\n",
    "    else: print(c, \"NOT IN LANDS\")"
   ]
  },
  {
   "cell_type": "code",
   "execution_count": null,
   "metadata": {},
   "outputs": [],
   "source": []
  }
 ]
}